{
 "cells": [
  {
   "cell_type": "markdown",
   "metadata": {},
   "source": [
    "# Useful fact from Linear Algebra"
   ]
  },
  {
   "cell_type": "code",
   "execution_count": 1,
   "metadata": {
    "ExecuteTime": {
     "end_time": "2022-06-15T06:00:45.601701Z",
     "start_time": "2022-06-15T06:00:44.680046Z"
    }
   },
   "outputs": [],
   "source": [
    "import numpy as np\n",
    "from matplotlib import pyplot as plt\n",
    "import math\n",
    "from math import sin, cos\n",
    "from scipy.io import loadmat\n",
    "import matplotlib.cm as cm"
   ]
  },
  {
   "cell_type": "markdown",
   "metadata": {},
   "source": [
    "1.) What is an orthorgonal matrix? What's the definition and what's the intuition behind it."
   ]
  },
  {
   "cell_type": "code",
   "execution_count": null,
   "metadata": {},
   "outputs": [],
   "source": []
  },
  {
   "cell_type": "markdown",
   "metadata": {},
   "source": [
    "2) Given orthorgonal matrix $U$ and vector $v$. How does $||Uv||_2$ compared to $||v||_2$"
   ]
  },
  {
   "cell_type": "code",
   "execution_count": null,
   "metadata": {},
   "outputs": [],
   "source": []
  },
  {
   "cell_type": "markdown",
   "metadata": {},
   "source": [
    "3) Given an orthorgotal matrix $U$. If we have $Uv = w$, can we find $v$ from $w$?"
   ]
  },
  {
   "cell_type": "code",
   "execution_count": null,
   "metadata": {},
   "outputs": [],
   "source": []
  },
  {
   "cell_type": "markdown",
   "metadata": {},
   "source": [
    "4) Build an random $5\\times3$ matrix and use np.linalg.svd\n",
    "- the return value are $u, s, v$\n",
    "- What are the dimension of $u, s, v$\n",
    "- Compute $u^Tu$, $v^Tv$. What do we call $u,v$?"
   ]
  },
  {
   "cell_type": "code",
   "execution_count": 10,
   "metadata": {
    "ExecuteTime": {
     "end_time": "2022-06-15T06:04:17.760463Z",
     "start_time": "2022-06-15T06:04:17.732750Z"
    }
   },
   "outputs": [
    {
     "name": "stdout",
     "output_type": "stream",
     "text": [
      "(5, 5) (3,) (3, 3)\n"
     ]
    }
   ],
   "source": [
    "np.random.seed(555)\n",
    "\n",
    "A = np.random.random((5,3))\n",
    "\n",
    "u, s, v = np.linalg.svd(A)\n",
    "print(u.shape, s.shape, v.shape)"
   ]
  },
  {
   "cell_type": "code",
   "execution_count": 9,
   "metadata": {
    "ExecuteTime": {
     "end_time": "2022-06-15T06:03:33.440408Z",
     "start_time": "2022-06-15T06:03:33.429493Z"
    }
   },
   "outputs": [
    {
     "data": {
      "text/plain": [
       "array([[ 1.00000000e+00, -1.04083409e-16,  2.22044605e-16],\n",
       "       [-1.04083409e-16,  1.00000000e+00, -1.94289029e-16],\n",
       "       [ 2.22044605e-16, -1.94289029e-16,  1.00000000e+00]])"
      ]
     },
     "execution_count": 9,
     "metadata": {},
     "output_type": "execute_result"
    }
   ],
   "source": []
  },
  {
   "cell_type": "markdown",
   "metadata": {},
   "source": [
    "5) Build $3 \\times 5$ pseudo diagonal matrix with diagonal from $s$ call it $\\Sigma$\n"
   ]
  },
  {
   "cell_type": "code",
   "execution_count": 15,
   "metadata": {
    "ExecuteTime": {
     "end_time": "2022-06-15T06:07:24.828528Z",
     "start_time": "2022-06-15T06:07:24.804766Z"
    }
   },
   "outputs": [
    {
     "name": "stdout",
     "output_type": "stream",
     "text": [
      "[[2.00381607 0.         0.        ]\n",
      " [0.         0.74870403 0.        ]\n",
      " [0.         0.         0.65446323]\n",
      " [0.         0.         0.        ]\n",
      " [0.         0.         0.        ]]\n"
     ]
    },
    {
     "data": {
      "text/plain": [
       "array([[0.71783409, 0.04785513, 0.94447198],\n",
       "       [0.68638004, 0.58120733, 0.14267862],\n",
       "       [0.94591918, 0.33999059, 0.62043546],\n",
       "       [0.45295964, 0.23976742, 0.03450459],\n",
       "       [0.14859311, 0.81086617, 0.65310538]])"
      ]
     },
     "execution_count": 15,
     "metadata": {},
     "output_type": "execute_result"
    }
   ],
   "source": [
    "sigma = np.zeros((5,3))\n",
    "sigma[:3,:3] = np.diag(s)\n",
    "sigma\n",
    "print(sigma)\n",
    "u @ sigma @ v"
   ]
  },
  {
   "cell_type": "code",
   "execution_count": 14,
   "metadata": {
    "ExecuteTime": {
     "end_time": "2022-06-15T06:05:53.615719Z",
     "start_time": "2022-06-15T06:05:53.606696Z"
    }
   },
   "outputs": [
    {
     "data": {
      "text/plain": [
       "array([[0.71783409, 0.04785513, 0.94447198],\n",
       "       [0.68638004, 0.58120733, 0.14267862],\n",
       "       [0.94591918, 0.33999059, 0.62043546],\n",
       "       [0.45295964, 0.23976742, 0.03450459],\n",
       "       [0.14859311, 0.81086617, 0.65310538]])"
      ]
     },
     "execution_count": 14,
     "metadata": {},
     "output_type": "execute_result"
    }
   ],
   "source": [
    "A"
   ]
  },
  {
   "cell_type": "markdown",
   "metadata": {},
   "source": [
    "6) Compute $u\\times\\Sigma\\times v$. Compare it with the original matrix."
   ]
  },
  {
   "cell_type": "code",
   "execution_count": null,
   "metadata": {},
   "outputs": [],
   "source": []
  },
  {
   "cell_type": "markdown",
   "metadata": {},
   "source": [
    "## Low Rank Approximation"
   ]
  },
  {
   "cell_type": "markdown",
   "metadata": {},
   "source": [
    "1) Given 2000 pictures for 20 by 30 pixels. What is the dimension of\n",
    " - Your data X\n",
    " - Basis matrix U (Also what magic property does it have?)\n",
    " - Coefficient matrix C"
   ]
  },
  {
   "cell_type": "code",
   "execution_count": null,
   "metadata": {},
   "outputs": [],
   "source": []
  },
  {
   "cell_type": "markdown",
   "metadata": {},
   "source": [
    "2) Given the matrix $c$ of exactly one picture. How do we get the original picture $x$ back?"
   ]
  },
  {
   "cell_type": "code",
   "execution_count": null,
   "metadata": {},
   "outputs": [],
   "source": []
  },
  {
   "cell_type": "markdown",
   "metadata": {},
   "source": [
    "3) Given a picture $x$ how do we get the coefficient $c$"
   ]
  },
  {
   "cell_type": "code",
   "execution_count": 18,
   "metadata": {},
   "outputs": [
    {
     "data": {
      "text/plain": [
       "(3, 3)"
      ]
     },
     "execution_count": 18,
     "metadata": {},
     "output_type": "execute_result"
    }
   ],
   "source": [
    "u.shape"
   ]
  },
  {
   "cell_type": "markdown",
   "metadata": {},
   "source": [
    "4) By cutting off some coefficients what property we try to perseve in $UC$?"
   ]
  },
  {
   "cell_type": "code",
   "execution_count": null,
   "metadata": {},
   "outputs": [],
   "source": []
  },
  {
   "cell_type": "markdown",
   "metadata": {},
   "source": [
    "5) What should $UC$ optimize?"
   ]
  },
  {
   "cell_type": "code",
   "execution_count": null,
   "metadata": {},
   "outputs": [],
   "source": []
  },
  {
   "cell_type": "markdown",
   "metadata": {},
   "source": [
    "6) How do we find $U$?"
   ]
  },
  {
   "cell_type": "code",
   "execution_count": null,
   "metadata": {},
   "outputs": [],
   "source": []
  },
  {
   "cell_type": "markdown",
   "metadata": {},
   "source": [
    "7) Take the hanwritten number image from last time. Find U and find C."
   ]
  },
  {
   "cell_type": "code",
   "execution_count": 17,
   "metadata": {
    "ExecuteTime": {
     "end_time": "2022-06-15T07:09:51.469767Z",
     "start_time": "2022-06-15T07:09:51.212915Z"
    }
   },
   "outputs": [
    {
     "name": "stdout",
     "output_type": "stream",
     "text": [
      "{'__header__': b'MATLAB 5.0 MAT-file, Platform: GLNX86, Created on: Fri Dec  3 17:13:58 2004', '__version__': '1.0', '__globals__': [], 'train_patterns': array([[-0.99999988, -0.99999982, -0.99999988, ..., -0.9999997 ,\n",
      "        -0.99997759, -0.99993992],\n",
      "       [-0.9999997 , -0.99999845, -0.99999988, ..., -0.99996912,\n",
      "        -0.99797225, -0.99719542],\n",
      "       [-0.99998665, -0.99989259, -0.99999988, ..., -0.9983288 ,\n",
      "        -0.96142083, -0.95687085],\n",
      "       ...,\n",
      "       [-0.93985581, -0.76438236, -0.99999988, ..., -0.99999988,\n",
      "        -0.97830033, -0.99999988],\n",
      "       [-0.99104893, -0.93247736, -0.99999988, ..., -0.99999988,\n",
      "        -0.99563289, -0.99999988],\n",
      "       [-0.99916363, -0.99033844, -0.99999988, ..., -0.99999988,\n",
      "        -0.99974871, -0.99999988]]), 'train_labels': array([[-1,  1, -1, ..., -1, -1, -1],\n",
      "       [-1, -1,  1, ..., -1, -1, -1],\n",
      "       [-1, -1, -1, ..., -1,  1, -1],\n",
      "       ...,\n",
      "       [-1, -1, -1, ..., -1, -1,  1],\n",
      "       [-1, -1, -1, ..., -1, -1, -1],\n",
      "       [-1, -1, -1, ...,  1, -1, -1]], dtype=int16), 'test_patterns': array([[-0.77753252, -0.99999988, -0.99999958, ..., -0.99999517,\n",
      "        -0.99999988, -0.99999988],\n",
      "       [-0.240252  , -0.99999988, -0.99996489, ..., -0.99945843,\n",
      "        -0.99999988, -0.99999988],\n",
      "       [ 0.03521794, -0.99999988, -0.99887937, ..., -0.9816342 ,\n",
      "        -0.99999988, -0.99999988],\n",
      "       ...,\n",
      "       [-0.97948372, -0.8419112 , -0.62490261, ..., -0.99903953,\n",
      "        -0.99060977, -0.98519874],\n",
      "       [-0.99758291, -0.98447108, -0.92984188, ..., -0.99998784,\n",
      "        -0.99973452, -0.99929285],\n",
      "       [-0.99987209, -0.99943602, -0.99603903, ..., -0.99999988,\n",
      "        -0.99999774, -0.99999201]]), 'test_labels': array([[ 1, -1, -1, ..., -1, -1, -1],\n",
      "       [-1, -1, -1, ..., -1, -1, -1],\n",
      "       [-1, -1, -1, ..., -1, -1, -1],\n",
      "       ...,\n",
      "       [-1, -1, -1, ..., -1, -1, -1],\n",
      "       [-1, -1, -1, ...,  1, -1, -1],\n",
      "       [-1, -1, -1, ..., -1, -1, -1]], dtype=int16)}\n",
      "(256, 4649)\n"
     ]
    },
    {
     "data": {
      "image/png": "[encoded data removed]",
      "text/plain": [
       "<Figure size 432x288 with 1 Axes>"
      ]
     },
     "metadata": {
      "image/png": {
       "height": 248,
       "width": 256
      },
      "needs_background": "light"
     },
     "output_type": "display_data"
    }
   ],
   "source": [
    "D = loadmat('usps_resampled/usps_resampled.mat')\n",
    "print(D)\n",
    "#it is a dictionary of four elements\n",
    "# train_labels for the number of each training image\n",
    "# train_patterns for the train images\n",
    "# test_labels\n",
    "# test_patterns\n",
    "images = D['train_patterns']\n",
    "print(images.shape)\n",
    "def show(img):\n",
    "    im = img.reshape(16,16) #you can try print it\n",
    "    plt.imshow(im, interpolation='none', cmap=cm.Greys)\n",
    "show(images[:,4610])"
   ]
  },
  {
   "cell_type": "markdown",
   "metadata": {},
   "source": [
    "8) Get one picture. Try plot various picture you cut from varying amout of coefficient."
   ]
  },
  {
   "cell_type": "code",
   "execution_count": 21,
   "metadata": {
    "ExecuteTime": {
     "end_time": "2022-06-15T07:10:27.861191Z",
     "start_time": "2022-06-15T07:10:27.659959Z"
    }
   },
   "outputs": [
    {
     "data": {
      "text/plain": [
       "(256, 4649)"
      ]
     },
     "execution_count": 21,
     "metadata": {},
     "output_type": "execute_result"
    },
    {
     "data": {
      "image/png": "[encoded data removed]",
      "text/plain": [
       "<Figure size 432x288 with 1 Axes>"
      ]
     },
     "metadata": {
      "image/png": {
       "height": 248,
       "width": 256
      },
      "needs_background": "light"
     },
     "output_type": "display_data"
    }
   ],
   "source": [
    "show(images[:,300])"
   ]
  },
  {
   "cell_type": "code",
   "execution_count": 23,
   "metadata": {
    "ExecuteTime": {
     "end_time": "2022-06-15T07:11:35.268217Z",
     "start_time": "2022-06-15T07:11:30.354904Z"
    }
   },
   "outputs": [],
   "source": [
    "# find the u\n",
    "\n",
    "u,s,v = np.linalg.svd(images)"
   ]
  },
  {
   "cell_type": "code",
   "execution_count": 25,
   "metadata": {
    "ExecuteTime": {
     "end_time": "2022-06-15T07:12:10.550461Z",
     "start_time": "2022-06-15T07:12:10.156336Z"
    }
   },
   "outputs": [
    {
     "data": {
      "image/png": "[encoded data removed]",
      "text/plain": [
       "<Figure size 432x288 with 1 Axes>"
      ]
     },
     "metadata": {
      "image/png": {
       "height": 248,
       "width": 256
      },
      "needs_background": "light"
     },
     "output_type": "display_data"
    }
   ],
   "source": [
    "show(u[:, 0])"
   ]
  },
  {
   "cell_type": "code",
   "execution_count": 26,
   "metadata": {
    "ExecuteTime": {
     "end_time": "2022-06-15T07:12:18.411981Z",
     "start_time": "2022-06-15T07:12:18.140755Z"
    }
   },
   "outputs": [
    {
     "data": {
      "image/png": "[encoded data removed]",
      "text/plain": [
       "<Figure size 432x288 with 1 Axes>"
      ]
     },
     "metadata": {
      "image/png": {
       "height": 248,
       "width": 256
      },
      "needs_background": "light"
     },
     "output_type": "display_data"
    }
   ],
   "source": [
    "show(u[:, 1])"
   ]
  },
  {
   "cell_type": "code",
   "execution_count": 27,
   "metadata": {
    "ExecuteTime": {
     "end_time": "2022-06-15T07:12:23.390864Z",
     "start_time": "2022-06-15T07:12:23.193212Z"
    }
   },
   "outputs": [
    {
     "data": {
      "image/png": "[encoded data removed]",
      "text/plain": [
       "<Figure size 432x288 with 1 Axes>"
      ]
     },
     "metadata": {
      "image/png": {
       "height": 248,
       "width": 256
      },
      "needs_background": "light"
     },
     "output_type": "display_data"
    }
   ],
   "source": [
    "show(u[:, 2])"
   ]
  },
  {
   "cell_type": "code",
   "execution_count": 31,
   "metadata": {
    "ExecuteTime": {
     "end_time": "2022-06-15T07:15:25.093871Z",
     "start_time": "2022-06-15T07:15:25.021783Z"
    }
   },
   "outputs": [
    {
     "name": "stdout",
     "output_type": "stream",
     "text": [
      "(256, 10)\n",
      "(10, 4649)\n",
      "(256, 4649)\n"
     ]
    }
   ],
   "source": [
    "k = 10\n",
    "uk = u[:, :k]\n",
    "print(uk.shape)\n",
    "\n",
    "c = uk.T @ images\n",
    "print(c.shape)\n",
    "\n",
    "\n",
    "print(images.shape)"
   ]
  },
  {
   "cell_type": "code",
   "execution_count": 53,
   "metadata": {
    "ExecuteTime": {
     "end_time": "2022-06-15T07:24:46.545072Z",
     "start_time": "2022-06-15T07:24:46.077153Z"
    }
   },
   "outputs": [
    {
     "name": "stdout",
     "output_type": "stream",
     "text": [
      "(256, 20)\n"
     ]
    },
    {
     "data": {
      "image/png": "[encoded data removed]",
      "text/plain": [
       "<Figure size 432x288 with 1 Axes>"
      ]
     },
     "metadata": {
      "image/png": {
       "height": 248,
       "width": 256
      },
      "needs_background": "light"
     },
     "output_type": "display_data"
    },
    {
     "data": {
      "image/png": "[encoded data removed]",
      "text/plain": [
       "<Figure size 432x288 with 1 Axes>"
      ]
     },
     "metadata": {
      "image/png": {
       "height": 248,
       "width": 256
      },
      "needs_background": "light"
     },
     "output_type": "display_data"
    }
   ],
   "source": [
    "# uk @ c --> images\n",
    "k = 20\n",
    "uk = u[:, :k]\n",
    "\n",
    "print(uk.shape)\n",
    "\n",
    "c = uk.T @ images\n",
    "\n",
    "reduced_image = uk @ c\n",
    "\n",
    "n = 99\n",
    "show(images[:, n])\n",
    "plt.figure()\n",
    "show(reduced_image[:, n])"
   ]
  },
  {
   "cell_type": "markdown",
   "metadata": {},
   "source": [
    "9) Grab a new picture from test and find C."
   ]
  },
  {
   "cell_type": "code",
   "execution_count": 55,
   "metadata": {
    "ExecuteTime": {
     "end_time": "2022-06-15T07:24:50.113876Z",
     "start_time": "2022-06-15T07:24:49.694960Z"
    }
   },
   "outputs": [
    {
     "name": "stderr",
     "output_type": "stream",
     "text": [
      "/Users/piti/Library/Python/3.7/lib/python/site-packages/sklearn/linear_model/_logistic.py:939: ConvergenceWarning: lbfgs failed to converge (status=1):\n",
      "STOP: TOTAL NO. of ITERATIONS REACHED LIMIT.\n",
      "\n",
      "Increase the number of iterations (max_iter) or scale the data as shown in:\n",
      "    https://scikit-learn.org/stable/modules/preprocessing.html.\n",
      "Please also refer to the documentation for alternative solver options:\n",
      "    https://scikit-learn.org/stable/modules/linear_model.html#logistic-regression\n",
      "  extra_warning_msg=_LOGISTIC_SOLVER_CONVERGENCE_MSG)\n"
     ]
    },
    {
     "data": {
      "text/plain": [
       "LogisticRegression(C=1.0, class_weight=None, dual=False, fit_intercept=True,\n",
       "                   intercept_scaling=1, l1_ratio=None, max_iter=100,\n",
       "                   multi_class='auto', n_jobs=None, penalty='l2',\n",
       "                   random_state=None, solver='lbfgs', tol=0.0001, verbose=0,\n",
       "                   warm_start=False)"
      ]
     },
     "execution_count": 55,
     "metadata": {},
     "output_type": "execute_result"
    }
   ],
   "source": [
    "from sklearn.linear_model import LogisticRegression\n",
    "\n",
    "lr = LogisticRegression()\n",
    "label = np.argmax(D['train_labels'].T, axis=1)\n",
    "lr.fit(c.T, label)"
   ]
  },
  {
   "cell_type": "code",
   "execution_count": null,
   "metadata": {},
   "outputs": [],
   "source": []
  },
  {
   "cell_type": "code",
   "execution_count": 57,
   "metadata": {
    "ExecuteTime": {
     "end_time": "2022-06-15T07:25:31.776983Z",
     "start_time": "2022-06-15T07:25:31.766249Z"
    }
   },
   "outputs": [
    {
     "data": {
      "text/plain": [
       "array([6, 0, 1, ..., 9, 2, 7])"
      ]
     },
     "execution_count": 57,
     "metadata": {},
     "output_type": "execute_result"
    }
   ],
   "source": [
    "lr.predict(c.T)"
   ]
  },
  {
   "cell_type": "code",
   "execution_count": 58,
   "metadata": {
    "ExecuteTime": {
     "end_time": "2022-06-15T07:25:40.400694Z",
     "start_time": "2022-06-15T07:25:40.391893Z"
    }
   },
   "outputs": [
    {
     "data": {
      "text/plain": [
       "array([6, 0, 1, ..., 9, 2, 7])"
      ]
     },
     "execution_count": 58,
     "metadata": {},
     "output_type": "execute_result"
    }
   ],
   "source": [
    "np.argmax(D['train_labels'].T, axis=1)"
   ]
  },
  {
   "cell_type": "markdown",
   "metadata": {},
   "source": [
    "# Clustering Problem"
   ]
  },
  {
   "cell_type": "markdown",
   "metadata": {},
   "source": [
    "1.) What is the difference between clustering problem and classification problem?"
   ]
  },
  {
   "cell_type": "code",
   "execution_count": null,
   "metadata": {},
   "outputs": [],
   "source": []
  },
  {
   "cell_type": "markdown",
   "metadata": {},
   "source": [
    "2) Consider this data points. We can see that there are clusters. How did we tell that two points belongs to the same cluster? "
   ]
  },
  {
   "cell_type": "code",
   "execution_count": 45,
   "metadata": {},
   "outputs": [
    {
     "data": {
      "text/plain": [
       "[<matplotlib.lines.Line2D at 0x11c1f9e48>]"
      ]
     },
     "execution_count": 45,
     "metadata": {},
     "output_type": "execute_result"
    },
    {
     "data": {
      "image/png": "[encoded data removed]",
      "text/plain": [
       "<Figure size 432x288 with 1 Axes>"
      ]
     },
     "metadata": {
      "image/png": {
       "height": 250,
       "width": 372
      },
      "needs_background": "light"
     },
     "output_type": "display_data"
    }
   ],
   "source": [
    "np.random.seed(99887766)\n",
    "xs = np.random.randn(30,2)\n",
    "xs[10:20,:] = xs[10:20,:]+[10,10]\n",
    "xs[20:30,:] = xs[20:30,:]+[-10,10]\n",
    "plt.plot(xs[:,0], xs[:, 1], '.b')"
   ]
  },
  {
   "cell_type": "markdown",
   "metadata": {},
   "source": [
    "3) What is a centroid? Given a bunch of centroids how do we decide which centroid a data point belongs to?"
   ]
  },
  {
   "cell_type": "code",
   "execution_count": null,
   "metadata": {},
   "outputs": [],
   "source": []
  },
  {
   "cell_type": "markdown",
   "metadata": {},
   "source": [
    "4) Summarize the K-mean update rule"
   ]
  },
  {
   "cell_type": "code",
   "execution_count": null,
   "metadata": {},
   "outputs": [],
   "source": []
  },
  {
   "cell_type": "markdown",
   "metadata": {},
   "source": [
    "5) How should we initialize the seed?\n",
    "What can go wrong if we seed it with the same centroid ([0,0], [0,0])\n",
    "What can go wrong if we seed it with ([0,0], [100,100])\n",
    "How can we avoid these two things?"
   ]
  },
  {
   "cell_type": "code",
   "execution_count": null,
   "metadata": {},
   "outputs": [],
   "source": []
  },
  {
   "cell_type": "markdown",
   "metadata": {},
   "source": [
    "6) Cluster it."
   ]
  },
  {
   "cell_type": "code",
   "execution_count": null,
   "metadata": {},
   "outputs": [],
   "source": []
  },
  {
   "cell_type": "markdown",
   "metadata": {},
   "source": [
    "7) Will it work on this data?"
   ]
  },
  {
   "cell_type": "code",
   "execution_count": 51,
   "metadata": {},
   "outputs": [
    {
     "data": {
      "text/plain": [
       "[<matplotlib.lines.Line2D at 0x11c60deb8>]"
      ]
     },
     "execution_count": 51,
     "metadata": {},
     "output_type": "execute_result"
    },
    {
     "data": {
      "image/png": "[encoded data removed]",
      "text/plain": [
       "<Figure size 432x288 with 1 Axes>"
      ]
     },
     "metadata": {
      "image/png": {
       "height": 250,
       "width": 372
      },
      "needs_background": "light"
     },
     "output_type": "display_data"
    }
   ],
   "source": [
    "np.random.seed(9999)\n",
    "ndata = 50\n",
    "thetas = np.linspace(0,2*math.pi,ndata)\n",
    "data1 = np.array([\n",
    "    [2*cos(theta) for theta in thetas],\n",
    "    [2*sin(theta) for theta in thetas]\n",
    "])\n",
    "\n",
    "data1 = data1 + np.random.randn(2, ndata)*0.3\n",
    "\n",
    "data2 = np.random.randn(2, 30)*0.2\n",
    "\n",
    "#plt.plot(data1[0], data1[1], '.')\n",
    "#plt.plot(data2[0], data2[1], '.')\n",
    "\n",
    "data = np.concatenate((data1, data2), axis=1)\n",
    "sorted_data = data.copy().T\n",
    "np.random.shuffle(data.T)\n",
    "\n",
    "\n",
    "data = data.T\n",
    "#print data\n",
    "plt.plot(data[:, 0], data[:, 1],'.')"
   ]
  },
  {
   "cell_type": "code",
   "execution_count": null,
   "metadata": {},
   "outputs": [],
   "source": []
  },
  {
   "cell_type": "markdown",
   "metadata": {},
   "source": [
    "8) How do we pick the number of cluster?"
   ]
  },
  {
   "cell_type": "code",
   "execution_count": null,
   "metadata": {},
   "outputs": [],
   "source": []
  }
 ],
 "metadata": {
  "hide_input": false,
  "kernelspec": {
   "display_name": "Python 3",
   "language": "python",
   "name": "python3"
  },
  "language_info": {
   "codemirror_mode": {
    "name": "ipython",
    "version": 3
   },
   "file_extension": ".py",
   "mimetype": "text/x-python",
   "name": "python",
   "nbconvert_exporter": "python",
   "pygments_lexer": "ipython3",
   "version": "3.7.3"
  },
  "toc": {
   "colors": {
    "hover_highlight": "#DAA520",
    "running_highlight": "#FF0000",
    "selected_highlight": "#FFD700"
   },
   "moveMenuLeft": true,
   "nav_menu": {
    "height": "48px",
    "width": "252px"
   },
   "navigate_menu": true,
   "number_sections": false,
   "sideBar": true,
   "threshold": 4,
   "toc_cell": false,
   "toc_section_display": "block",
   "toc_window_display": false
  }
 },
 "nbformat": 4,
 "nbformat_minor": 2
}
